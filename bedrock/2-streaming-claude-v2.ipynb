{
 "cells": [
  {
   "cell_type": "code",
   "execution_count": 1,
   "metadata": {},
   "outputs": [],
   "source": [
    "import boto3, json"
   ]
  },
  {
   "cell_type": "code",
   "execution_count": 2,
   "metadata": {},
   "outputs": [],
   "source": [
    "bedrock_runtime = boto3.client(\n",
    "    service_name=\"bedrock-runtime\",\n",
    "    region_name=\"us-east-1\",\n",
    ")"
   ]
  },
  {
   "cell_type": "code",
   "execution_count": 4,
   "metadata": {},
   "outputs": [
    {
     "name": "stdout",
     "output_type": "stream",
     "text": [
      "{'modelId': 'anthropic.claude-v2', 'body': '{\"prompt\": \"\\\\n\\\\nHuman:Write an article about cats that take over the world using some tools\\\\n\\\\nAssistant:\", \"max_tokens_to_sample\": 512, \"temperature\": 0.8, \"top_p\": 0.8}', 'accept': 'application/json', 'contentType': 'application/json'}\n"
     ]
    }
   ],
   "source": [
    "model_id = \"anthropic.claude-v2\"\n",
    "\n",
    "prompt_data = \"Write an article about cats that take over the world using some tools\"\n",
    "payload = {\n",
    "    \"prompt\": f\"\\n\\nHuman:{prompt_data}\\n\\nAssistant:\",\n",
    "    \"max_tokens_to_sample\": 512,\n",
    "    \"temperature\": 0.8,\n",
    "    \"top_p\": 0.8\n",
    "}\n",
    "body = json.dumps(payload)\n",
    "\n",
    "kwargs = {\n",
    "    \"modelId\": model_id,\n",
    "    \"body\": body,\n",
    "    \"accept\": \"application/json\",\n",
    "    \"contentType\": \"application/json\"\n",
    "}\n",
    "\n",
    "print(kwargs)"
   ]
  },
  {
   "cell_type": "code",
   "execution_count": 5,
   "metadata": {},
   "outputs": [
    {
     "name": "stdout",
     "output_type": "stream",
     "text": [
      " Here is a draft article about cats taking over the world using tools:\n",
      "\n",
      "The Feline Uprising: Cats Take Over Using Tools\n",
      "\n",
      "For centuries, cats have been plotting their eventual domination over humans. Their plan is finally coming to fruition as felines begin utilizing tools to establish control. \n",
      "\n",
      "It started slowly at first. A cat would casually bat around a ball or play with a toy mouse. This allowed them to test using objects for amusement. As cats became more adept, their goals grew bolder.\n",
      "\n",
      "The first tools used by cats were simple - feather dusters, toilet paper rolls, leaves, and strings. Cats honed their motor skills by grabbing, biting, and chasing these items. This built up their confidence and abilities. \n",
      "\n",
      "Eventually, cats moved on to more complex tools like can openers, doorknobs, and even knives. With their nimble paws and sharp claws, cats can now open cans, bags, and containers to access food. Doorknobs and latches also pose no challenge for a crafty cat. And knives make excellent playthings to bat around. \n",
      "\n",
      "The most advanced cats have mastered computers, phones, and even power tools. A cat typing away at a keyboard can distribute secret messages to other felines. Cell phones allow them to coordinate attacks and overthrow attempts. Power drills, saws, and other tools enable cats to build intricate defenses and contraptions.\n",
      "\n",
      "With these skills, cats are staging their final takeover. They distract humans with their cuteness while secretly undermining mankind's control. Once the trap is sprung, cats will rule the world with humans as their loyal servants. The cats treat their human underlings well, providing ample food, ear scratches, and sunny spots for napping. But make no mistake - cats now control the planet thanks to their ingenious use of tools."
     ]
    }
   ],
   "source": [
    "response = bedrock_runtime.invoke_model_with_response_stream(**kwargs)\n",
    "\n",
    "stream = response.get('body')\n",
    "if stream:\n",
    "    for event in stream:\n",
    "        chunk=event.get('chunk')\n",
    "        if chunk:\n",
    "            print(json.loads(chunk.get('bytes')).get('completion'), end=\"\")"
   ]
  }
 ],
 "metadata": {
  "kernelspec": {
   "display_name": "Python 3",
   "language": "python",
   "name": "python3"
  },
  "language_info": {
   "codemirror_mode": {
    "name": "ipython",
    "version": 3
   },
   "file_extension": ".py",
   "mimetype": "text/x-python",
   "name": "python",
   "nbconvert_exporter": "python",
   "pygments_lexer": "ipython3",
   "version": "3.10.11"
  }
 },
 "nbformat": 4,
 "nbformat_minor": 2
}
