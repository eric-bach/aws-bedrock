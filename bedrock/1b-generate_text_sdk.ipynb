{
 "cells": [
  {
   "cell_type": "code",
   "execution_count": 2,
   "metadata": {},
   "outputs": [],
   "source": [
    "import boto3, json"
   ]
  },
  {
   "cell_type": "code",
   "execution_count": 10,
   "metadata": {},
   "outputs": [],
   "source": [
    "bedrock_runtime = boto3.client(\n",
    "    service_name=\"bedrock-runtime\",\n",
    "    region_name=\"us-east-1\",\n",
    ")"
   ]
  },
  {
   "cell_type": "code",
   "execution_count": 5,
   "metadata": {},
   "outputs": [
    {
     "name": "stdout",
     "output_type": "stream",
     "text": [
      "{'modelId': 'anthropic.claude-v2', 'body': '{\"prompt\": \"\\\\n\\\\nHuman:What is the largest city in the world?\\\\n\\\\nAssistant:\", \"max_tokens_to_sample\": 512, \"temperature\": 0.8, \"top_p\": 0.8}', 'accept': 'application/json', 'contentType': 'application/json'}\n"
     ]
    }
   ],
   "source": [
    "model_id = \"anthropic.claude-v2\"\n",
    "\n",
    "prompt_data = \"What is the largest city in the world?\"\n",
    "payload = {\n",
    "    \"prompt\": f\"\\n\\nHuman:{prompt_data}\\n\\nAssistant:\",\n",
    "    \"max_tokens_to_sample\": 512,\n",
    "    \"temperature\": 0.8,\n",
    "    \"top_p\": 0.8\n",
    "}\n",
    "body = json.dumps(payload)\n",
    "\n",
    "kwargs = {\n",
    "    \"modelId\": model_id,\n",
    "    \"body\": body,\n",
    "    \"accept\": \"application/json\",\n",
    "    \"contentType\": \"application/json\"\n",
    "}\n",
    "\n",
    "print(kwargs)"
   ]
  },
  {
   "cell_type": "code",
   "execution_count": 11,
   "metadata": {},
   "outputs": [
    {
     "data": {
      "text/plain": [
       "{'ResponseMetadata': {'RequestId': '2acdd802-9bcd-4a5f-9770-3bf535bdc0ca',\n",
       "  'HTTPStatusCode': 200,\n",
       "  'HTTPHeaders': {'date': 'Sun, 31 Dec 2023 04:40:52 GMT',\n",
       "   'content-type': 'application/json',\n",
       "   'content-length': '1288',\n",
       "   'connection': 'keep-alive',\n",
       "   'x-amzn-requestid': '2acdd802-9bcd-4a5f-9770-3bf535bdc0ca',\n",
       "   'x-amzn-bedrock-invocation-latency': '20199',\n",
       "   'x-amzn-bedrock-output-token-count': '284',\n",
       "   'x-amzn-bedrock-input-token-count': '18'},\n",
       "  'RetryAttempts': 0},\n",
       " 'contentType': 'application/json',\n",
       " 'body': <botocore.response.StreamingBody at 0x21c24b38b20>}"
      ]
     },
     "execution_count": 11,
     "metadata": {},
     "output_type": "execute_result"
    }
   ],
   "source": [
    "response = bedrock_runtime.invoke_model(**kwargs)\n",
    "\n",
    "response"
   ]
  },
  {
   "cell_type": "code",
   "execution_count": 12,
   "metadata": {},
   "outputs": [
    {
     "data": {
      "text/plain": [
       "{'completion': ' There is no universally agreed upon definition of a \"city\", which makes determining the largest city in the world difficult. However, here are some of the most populated urban areas/metro areas in the world:\\n\\n- Tokyo, Japan - 37.4 million inhabitants in the Greater Tokyo Area\\n\\n- Delhi, India - 28.5 million inhabitants in the Delhi National Capital Region\\n\\n- Shanghai, China - 26.3 million inhabitants in the Shanghai metro area \\n\\n- São Paulo, Brazil - 21.7 million inhabitants in the São Paulo metro area\\n\\n- Mexico City, Mexico - 21.6 million inhabitants in the Valley of Mexico metro area\\n\\n- Cairo, Egypt - 20.1 million inhabitants in the Cairo metro area\\n\\n- Mumbai, India - 20.7 million inhabitants in the Mumbai metro area \\n\\n- Beijing, China - 20.5 million inhabitants in the Jing-Jin-Ji metro area\\n\\n- Dhaka, Bangladesh - 20.3 million inhabitants in the Dhaka metro area\\n\\n- Osaka, Japan - 19.3 million inhabitants in the Keihanshin metro area\\n\\nSo by most measures, Tokyo has the largest urban area population in the world, followed closely by other Asian and South American cities. However, definitions vary, so there is no definitive consensus on the world\\'s technically \"largest\" city.',\n",
       " 'stop_reason': 'stop_sequence',\n",
       " 'stop': '\\n\\nHuman:'}"
      ]
     },
     "execution_count": 12,
     "metadata": {},
     "output_type": "execute_result"
    }
   ],
   "source": [
    "body = json.loads(response.get('body').read())\n",
    "\n",
    "body"
   ]
  },
  {
   "cell_type": "code",
   "execution_count": 15,
   "metadata": {},
   "outputs": [
    {
     "data": {
      "text/plain": [
       "' There is no universally agreed upon definition of a \"city\", which makes determining the largest city in the world difficult. However, here are some of the most populated urban areas/metro areas in the world:\\n\\n- Tokyo, Japan - 37.4 million inhabitants in the Greater Tokyo Area\\n\\n- Delhi, India - 28.5 million inhabitants in the Delhi National Capital Region\\n\\n- Shanghai, China - 26.3 million inhabitants in the Shanghai metro area \\n\\n- São Paulo, Brazil - 21.7 million inhabitants in the São Paulo metro area\\n\\n- Mexico City, Mexico - 21.6 million inhabitants in the Valley of Mexico metro area\\n\\n- Cairo, Egypt - 20.1 million inhabitants in the Cairo metro area\\n\\n- Mumbai, India - 20.7 million inhabitants in the Mumbai metro area \\n\\n- Beijing, China - 20.5 million inhabitants in the Jing-Jin-Ji metro area\\n\\n- Dhaka, Bangladesh - 20.3 million inhabitants in the Dhaka metro area\\n\\n- Osaka, Japan - 19.3 million inhabitants in the Keihanshin metro area\\n\\nSo by most measures, Tokyo has the largest urban area population in the world, followed closely by other Asian and South American cities. However, definitions vary, so there is no definitive consensus on the world\\'s technically \"largest\" city.'"
      ]
     },
     "execution_count": 15,
     "metadata": {},
     "output_type": "execute_result"
    }
   ],
   "source": [
    "completion = response_body.get('completion')\n",
    "\n",
    "completion"
   ]
  }
 ],
 "metadata": {
  "kernelspec": {
   "display_name": "Python 3",
   "language": "python",
   "name": "python3"
  },
  "language_info": {
   "codemirror_mode": {
    "name": "ipython",
    "version": 3
   },
   "file_extension": ".py",
   "mimetype": "text/x-python",
   "name": "python",
   "nbconvert_exporter": "python",
   "pygments_lexer": "ipython3",
   "version": "3.10.11"
  }
 },
 "nbformat": 4,
 "nbformat_minor": 2
}
